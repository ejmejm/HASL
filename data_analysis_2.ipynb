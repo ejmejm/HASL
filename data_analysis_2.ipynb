{
 "cells": [
  {
   "cell_type": "code",
   "execution_count": 8,
   "metadata": {},
   "outputs": [],
   "source": [
    "import numpy as np\n",
    "import pickle\n",
    "import matplotlib.pyplot as plt\n",
    "import seaborn as sns\n",
    "from sklearn.decomposition import PCA\n",
    "sns.set()\n",
    "\n",
    "%matplotlib inline"
   ]
  },
  {
   "cell_type": "code",
   "execution_count": 2,
   "metadata": {},
   "outputs": [],
   "source": [
    "file_name = 'sc2.pickle'\n",
    "\n",
    "with open(file_name, 'rb') as f:\n",
    "    state_changes, all_states, act_seqs, idxs = pickle.load(f)"
   ]
  },
  {
   "cell_type": "code",
   "execution_count": 9,
   "metadata": {},
   "outputs": [
    {
     "name": "stdout",
     "output_type": "stream",
     "text": [
      "(31362, 2)\n"
     ]
    }
   ],
   "source": [
    "pca = PCA(2)\n",
    "ld_state_changes = pca.fit_transform(state_changes)\n",
    "np.random.shuffle(ld_state_changes)\n",
    "print(ld_state_changes.shape)"
   ]
  },
  {
   "cell_type": "markdown",
   "metadata": {},
   "source": [
    "n_samples = 200\n",
    "ld_x = ld_state_changes[:n_samples,0]\n",
    "col = np.zeros(n_samples)\n",
    "\n",
    "set_idxs = [set(x) for x in idxs]\n",
    "for i in range(len(col)):\n",
    "    for j in range(len(set_idxs)):\n",
    "        if i in set_idxs[j]:\n",
    "            col[i] = j\n",
    "\n",
    "plt.figure(figsize=(12, 12))\n",
    "            \n",
    "sns.scatterplot(x=ld_state_changes[:n_samples,0],\n",
    "                y=ld_state_changes[:n_samples,1],\n",
    "                hue=col,\n",
    "                alpha=0.5)"
   ]
  },
  {
   "cell_type": "code",
   "execution_count": null,
   "metadata": {},
   "outputs": [],
   "source": []
  }
 ],
 "metadata": {
  "kernelspec": {
   "display_name": "Python 3",
   "language": "python",
   "name": "python3"
  },
  "language_info": {
   "codemirror_mode": {
    "name": "ipython",
    "version": 3
   },
   "file_extension": ".py",
   "mimetype": "text/x-python",
   "name": "python",
   "nbconvert_exporter": "python",
   "pygments_lexer": "ipython3",
   "version": "3.6.8"
  }
 },
 "nbformat": 4,
 "nbformat_minor": 2
}
